{
 "cells": [
  {
   "cell_type": "markdown",
   "metadata": {},
   "source": [
    "# COVID-19 A549"
   ]
  },
  {
   "cell_type": "code",
   "execution_count": 1,
   "metadata": {},
   "outputs": [
    {
     "name": "stdout",
     "output_type": "stream",
     "text": [
      ">> clustergrammer2 backend version 0.6.0\n"
     ]
    }
   ],
   "source": [
    "from clustergrammer2 import net\n",
    "import pandas as pd"
   ]
  },
  {
   "cell_type": "code",
   "execution_count": 2,
   "metadata": {},
   "outputs": [],
   "source": [
    "from copy import deepcopy"
   ]
  },
  {
   "cell_type": "code",
   "execution_count": 3,
   "metadata": {},
   "outputs": [
    {
     "data": {
      "text/html": [
       "<div>\n",
       "<style scoped>\n",
       "    .dataframe tbody tr th:only-of-type {\n",
       "        vertical-align: middle;\n",
       "    }\n",
       "\n",
       "    .dataframe tbody tr th {\n",
       "        vertical-align: top;\n",
       "    }\n",
       "\n",
       "    .dataframe thead th {\n",
       "        text-align: right;\n",
       "    }\n",
       "</style>\n",
       "<table border=\"1\" class=\"dataframe\">\n",
       "  <thead>\n",
       "    <tr style=\"text-align: right;\">\n",
       "      <th></th>\n",
       "      <th>(Series1_NHBE_Mock_1, Cell Type: NHBE, Treatment: Mock)</th>\n",
       "      <th>(Series1_NHBE_Mock_2, Cell Type: NHBE, Treatment: Mock)</th>\n",
       "      <th>(Series1_NHBE_Mock_3, Cell Type: NHBE, Treatment: Mock)</th>\n",
       "      <th>(Series1_NHBE_SARS-CoV-2_1, Cell Type: NHBE, Treatment: SARS-CoV-2)</th>\n",
       "      <th>(Series1_NHBE_SARS-CoV-2_2, Cell Type: NHBE, Treatment: SARS-CoV-2)</th>\n",
       "      <th>(Series1_NHBE_SARS-CoV-2_3, Cell Type: NHBE, Treatment: SARS-CoV-2)</th>\n",
       "      <th>(Series2_A549_Mock_1, Cell Type: A549, Treatment: Mock)</th>\n",
       "      <th>(Series2_A549_Mock_2, Cell Type: A549, Treatment: Mock)</th>\n",
       "      <th>(Series2_A549_Mock_3, Cell Type: A549, Treatment: Mock)</th>\n",
       "      <th>(Series2_A549_SARS-CoV-2_1, Cell Type: A549, Treatment: SARS-CoV-2)</th>\n",
       "      <th>...</th>\n",
       "      <th>(Series9_NHBE_IFNB_4h_1, Cell Type: NHBE, Treatment: IFNB)</th>\n",
       "      <th>(Series9_NHBE_IFNB_4h_2, Cell Type: NHBE, Treatment: IFNB)</th>\n",
       "      <th>(Series9_NHBE_IFNB_6h_1, Cell Type: NHBE, Treatment: IFNB)</th>\n",
       "      <th>(Series9_NHBE_IFNB_6h_2, Cell Type: NHBE, Treatment: IFNB)</th>\n",
       "      <th>(Series9_NHBE_IFNB_12h_1, Cell Type: NHBE, Treatment: IFNB)</th>\n",
       "      <th>(Series9_NHBE_IFNB_12h_2, Cell Type: NHBE, Treatment: IFNB)</th>\n",
       "      <th>(Series15_HealthyLungBiopsy_2, Cell Type: HealthyLungBiopsy, Treatment: 2)</th>\n",
       "      <th>(Series15_HealthyLungBiopsy_1, Cell Type: HealthyLungBiopsy, Treatment: 1)</th>\n",
       "      <th>(Series15_COVID19Lung_2, Cell Type: COVID19Lung, Treatment: 2)</th>\n",
       "      <th>(Series15_COVID19Lung_1, Cell Type: COVID19Lung, Treatment: 1)</th>\n",
       "    </tr>\n",
       "  </thead>\n",
       "  <tbody>\n",
       "    <tr>\n",
       "      <th>DDX11L1</th>\n",
       "      <td>0</td>\n",
       "      <td>0</td>\n",
       "      <td>0</td>\n",
       "      <td>0</td>\n",
       "      <td>0</td>\n",
       "      <td>0</td>\n",
       "      <td>0</td>\n",
       "      <td>0</td>\n",
       "      <td>0</td>\n",
       "      <td>0</td>\n",
       "      <td>...</td>\n",
       "      <td>0</td>\n",
       "      <td>0</td>\n",
       "      <td>0</td>\n",
       "      <td>0</td>\n",
       "      <td>0</td>\n",
       "      <td>0</td>\n",
       "      <td>0</td>\n",
       "      <td>0</td>\n",
       "      <td>0</td>\n",
       "      <td>0</td>\n",
       "    </tr>\n",
       "    <tr>\n",
       "      <th>WASH7P</th>\n",
       "      <td>29</td>\n",
       "      <td>24</td>\n",
       "      <td>23</td>\n",
       "      <td>34</td>\n",
       "      <td>19</td>\n",
       "      <td>44</td>\n",
       "      <td>68</td>\n",
       "      <td>43</td>\n",
       "      <td>33</td>\n",
       "      <td>65</td>\n",
       "      <td>...</td>\n",
       "      <td>72</td>\n",
       "      <td>66</td>\n",
       "      <td>46</td>\n",
       "      <td>35</td>\n",
       "      <td>48</td>\n",
       "      <td>46</td>\n",
       "      <td>261</td>\n",
       "      <td>140</td>\n",
       "      <td>0</td>\n",
       "      <td>0</td>\n",
       "    </tr>\n",
       "    <tr>\n",
       "      <th>FAM138A</th>\n",
       "      <td>0</td>\n",
       "      <td>0</td>\n",
       "      <td>0</td>\n",
       "      <td>0</td>\n",
       "      <td>0</td>\n",
       "      <td>0</td>\n",
       "      <td>0</td>\n",
       "      <td>0</td>\n",
       "      <td>0</td>\n",
       "      <td>0</td>\n",
       "      <td>...</td>\n",
       "      <td>0</td>\n",
       "      <td>0</td>\n",
       "      <td>0</td>\n",
       "      <td>0</td>\n",
       "      <td>0</td>\n",
       "      <td>0</td>\n",
       "      <td>0</td>\n",
       "      <td>0</td>\n",
       "      <td>0</td>\n",
       "      <td>0</td>\n",
       "    </tr>\n",
       "    <tr>\n",
       "      <th>FAM138F</th>\n",
       "      <td>0</td>\n",
       "      <td>0</td>\n",
       "      <td>0</td>\n",
       "      <td>0</td>\n",
       "      <td>0</td>\n",
       "      <td>0</td>\n",
       "      <td>0</td>\n",
       "      <td>0</td>\n",
       "      <td>0</td>\n",
       "      <td>0</td>\n",
       "      <td>...</td>\n",
       "      <td>0</td>\n",
       "      <td>0</td>\n",
       "      <td>0</td>\n",
       "      <td>0</td>\n",
       "      <td>0</td>\n",
       "      <td>0</td>\n",
       "      <td>0</td>\n",
       "      <td>0</td>\n",
       "      <td>0</td>\n",
       "      <td>0</td>\n",
       "    </tr>\n",
       "    <tr>\n",
       "      <th>OR4F5</th>\n",
       "      <td>0</td>\n",
       "      <td>0</td>\n",
       "      <td>0</td>\n",
       "      <td>0</td>\n",
       "      <td>0</td>\n",
       "      <td>0</td>\n",
       "      <td>0</td>\n",
       "      <td>0</td>\n",
       "      <td>0</td>\n",
       "      <td>0</td>\n",
       "      <td>...</td>\n",
       "      <td>0</td>\n",
       "      <td>0</td>\n",
       "      <td>0</td>\n",
       "      <td>0</td>\n",
       "      <td>0</td>\n",
       "      <td>0</td>\n",
       "      <td>0</td>\n",
       "      <td>0</td>\n",
       "      <td>0</td>\n",
       "      <td>0</td>\n",
       "    </tr>\n",
       "  </tbody>\n",
       "</table>\n",
       "<p>5 rows × 69 columns</p>\n",
       "</div>"
      ],
      "text/plain": [
       "         (Series1_NHBE_Mock_1, Cell Type: NHBE, Treatment: Mock)  \\\n",
       "DDX11L1                                                  0         \n",
       "WASH7P                                                  29         \n",
       "FAM138A                                                  0         \n",
       "FAM138F                                                  0         \n",
       "OR4F5                                                    0         \n",
       "\n",
       "         (Series1_NHBE_Mock_2, Cell Type: NHBE, Treatment: Mock)  \\\n",
       "DDX11L1                                                  0         \n",
       "WASH7P                                                  24         \n",
       "FAM138A                                                  0         \n",
       "FAM138F                                                  0         \n",
       "OR4F5                                                    0         \n",
       "\n",
       "         (Series1_NHBE_Mock_3, Cell Type: NHBE, Treatment: Mock)  \\\n",
       "DDX11L1                                                  0         \n",
       "WASH7P                                                  23         \n",
       "FAM138A                                                  0         \n",
       "FAM138F                                                  0         \n",
       "OR4F5                                                    0         \n",
       "\n",
       "         (Series1_NHBE_SARS-CoV-2_1, Cell Type: NHBE, Treatment: SARS-CoV-2)  \\\n",
       "DDX11L1                                                  0                     \n",
       "WASH7P                                                  34                     \n",
       "FAM138A                                                  0                     \n",
       "FAM138F                                                  0                     \n",
       "OR4F5                                                    0                     \n",
       "\n",
       "         (Series1_NHBE_SARS-CoV-2_2, Cell Type: NHBE, Treatment: SARS-CoV-2)  \\\n",
       "DDX11L1                                                  0                     \n",
       "WASH7P                                                  19                     \n",
       "FAM138A                                                  0                     \n",
       "FAM138F                                                  0                     \n",
       "OR4F5                                                    0                     \n",
       "\n",
       "         (Series1_NHBE_SARS-CoV-2_3, Cell Type: NHBE, Treatment: SARS-CoV-2)  \\\n",
       "DDX11L1                                                  0                     \n",
       "WASH7P                                                  44                     \n",
       "FAM138A                                                  0                     \n",
       "FAM138F                                                  0                     \n",
       "OR4F5                                                    0                     \n",
       "\n",
       "         (Series2_A549_Mock_1, Cell Type: A549, Treatment: Mock)  \\\n",
       "DDX11L1                                                  0         \n",
       "WASH7P                                                  68         \n",
       "FAM138A                                                  0         \n",
       "FAM138F                                                  0         \n",
       "OR4F5                                                    0         \n",
       "\n",
       "         (Series2_A549_Mock_2, Cell Type: A549, Treatment: Mock)  \\\n",
       "DDX11L1                                                  0         \n",
       "WASH7P                                                  43         \n",
       "FAM138A                                                  0         \n",
       "FAM138F                                                  0         \n",
       "OR4F5                                                    0         \n",
       "\n",
       "         (Series2_A549_Mock_3, Cell Type: A549, Treatment: Mock)  \\\n",
       "DDX11L1                                                  0         \n",
       "WASH7P                                                  33         \n",
       "FAM138A                                                  0         \n",
       "FAM138F                                                  0         \n",
       "OR4F5                                                    0         \n",
       "\n",
       "         (Series2_A549_SARS-CoV-2_1, Cell Type: A549, Treatment: SARS-CoV-2)  \\\n",
       "DDX11L1                                                  0                     \n",
       "WASH7P                                                  65                     \n",
       "FAM138A                                                  0                     \n",
       "FAM138F                                                  0                     \n",
       "OR4F5                                                    0                     \n",
       "\n",
       "                                      ...                                \\\n",
       "DDX11L1                               ...                                 \n",
       "WASH7P                                ...                                 \n",
       "FAM138A                               ...                                 \n",
       "FAM138F                               ...                                 \n",
       "OR4F5                                 ...                                 \n",
       "\n",
       "         (Series9_NHBE_IFNB_4h_1, Cell Type: NHBE, Treatment: IFNB)  \\\n",
       "DDX11L1                                                  0            \n",
       "WASH7P                                                  72            \n",
       "FAM138A                                                  0            \n",
       "FAM138F                                                  0            \n",
       "OR4F5                                                    0            \n",
       "\n",
       "         (Series9_NHBE_IFNB_4h_2, Cell Type: NHBE, Treatment: IFNB)  \\\n",
       "DDX11L1                                                  0            \n",
       "WASH7P                                                  66            \n",
       "FAM138A                                                  0            \n",
       "FAM138F                                                  0            \n",
       "OR4F5                                                    0            \n",
       "\n",
       "         (Series9_NHBE_IFNB_6h_1, Cell Type: NHBE, Treatment: IFNB)  \\\n",
       "DDX11L1                                                  0            \n",
       "WASH7P                                                  46            \n",
       "FAM138A                                                  0            \n",
       "FAM138F                                                  0            \n",
       "OR4F5                                                    0            \n",
       "\n",
       "         (Series9_NHBE_IFNB_6h_2, Cell Type: NHBE, Treatment: IFNB)  \\\n",
       "DDX11L1                                                  0            \n",
       "WASH7P                                                  35            \n",
       "FAM138A                                                  0            \n",
       "FAM138F                                                  0            \n",
       "OR4F5                                                    0            \n",
       "\n",
       "         (Series9_NHBE_IFNB_12h_1, Cell Type: NHBE, Treatment: IFNB)  \\\n",
       "DDX11L1                                                  0             \n",
       "WASH7P                                                  48             \n",
       "FAM138A                                                  0             \n",
       "FAM138F                                                  0             \n",
       "OR4F5                                                    0             \n",
       "\n",
       "         (Series9_NHBE_IFNB_12h_2, Cell Type: NHBE, Treatment: IFNB)  \\\n",
       "DDX11L1                                                  0             \n",
       "WASH7P                                                  46             \n",
       "FAM138A                                                  0             \n",
       "FAM138F                                                  0             \n",
       "OR4F5                                                    0             \n",
       "\n",
       "         (Series15_HealthyLungBiopsy_2, Cell Type: HealthyLungBiopsy, Treatment: 2)  \\\n",
       "DDX11L1                                                  0                            \n",
       "WASH7P                                                 261                            \n",
       "FAM138A                                                  0                            \n",
       "FAM138F                                                  0                            \n",
       "OR4F5                                                    0                            \n",
       "\n",
       "         (Series15_HealthyLungBiopsy_1, Cell Type: HealthyLungBiopsy, Treatment: 1)  \\\n",
       "DDX11L1                                                  0                            \n",
       "WASH7P                                                 140                            \n",
       "FAM138A                                                  0                            \n",
       "FAM138F                                                  0                            \n",
       "OR4F5                                                    0                            \n",
       "\n",
       "         (Series15_COVID19Lung_2, Cell Type: COVID19Lung, Treatment: 2)  \\\n",
       "DDX11L1                                                  0                \n",
       "WASH7P                                                   0                \n",
       "FAM138A                                                  0                \n",
       "FAM138F                                                  0                \n",
       "OR4F5                                                    0                \n",
       "\n",
       "         (Series15_COVID19Lung_1, Cell Type: COVID19Lung, Treatment: 1)  \n",
       "DDX11L1                                                  0               \n",
       "WASH7P                                                   0               \n",
       "FAM138A                                                  0               \n",
       "FAM138F                                                  0               \n",
       "OR4F5                                                    0               \n",
       "\n",
       "[5 rows x 69 columns]"
      ]
     },
     "execution_count": 3,
     "metadata": {},
     "output_type": "execute_result"
    }
   ],
   "source": [
    "net.load_file('../data/gex_cat.tsv')\n",
    "df_cat = net.export_df()\n",
    "df_cat.head()"
   ]
  },
  {
   "cell_type": "code",
   "execution_count": 4,
   "metadata": {},
   "outputs": [
    {
     "data": {
      "text/plain": [
       "(21797, 69)"
      ]
     },
     "execution_count": 4,
     "metadata": {},
     "output_type": "execute_result"
    }
   ],
   "source": [
    "df_cat.shape"
   ]
  },
  {
   "cell_type": "code",
   "execution_count": 5,
   "metadata": {},
   "outputs": [
    {
     "data": {
      "text/plain": [
       "Cell Type: A549                 29\n",
       "Cell Type: NHBE                 24\n",
       "Cell Type: A549-ACE2             6\n",
       "Cell Type: Calu3                 6\n",
       "Cell Type: COVID19Lung           2\n",
       "Cell Type: HealthyLungBiopsy     2\n",
       "dtype: int64"
      ]
     },
     "execution_count": 5,
     "metadata": {},
     "output_type": "execute_result"
    }
   ],
   "source": [
    "cats = [x[1] for x in df_cat.columns.tolist()]\n",
    "pd.Series(cats).value_counts()"
   ]
  },
  {
   "cell_type": "code",
   "execution_count": 6,
   "metadata": {},
   "outputs": [
    {
     "data": {
      "text/plain": [
       "Treatment: Mock          26\n",
       "Treatment: SARS-CoV-2    15\n",
       "Treatment: IFNB           6\n",
       "Treatment: IAV            6\n",
       "Treatment: RSV            5\n",
       "Treatment: IAVdNS1        4\n",
       "Treatment: HPIV3          3\n",
       "Treatment: 1              2\n",
       "Treatment: 2              2\n",
       "dtype: int64"
      ]
     },
     "execution_count": 6,
     "metadata": {},
     "output_type": "execute_result"
    }
   ],
   "source": [
    "cats = [x[2] for x in df_cat.columns.tolist()]\n",
    "pd.Series(cats).value_counts()"
   ]
  },
  {
   "cell_type": "markdown",
   "metadata": {},
   "source": [
    "### Load Diff Genes"
   ]
  },
  {
   "cell_type": "code",
   "execution_count": 7,
   "metadata": {},
   "outputs": [
    {
     "data": {
      "text/html": [
       "<div>\n",
       "<style scoped>\n",
       "    .dataframe tbody tr th:only-of-type {\n",
       "        vertical-align: middle;\n",
       "    }\n",
       "\n",
       "    .dataframe tbody tr th {\n",
       "        vertical-align: top;\n",
       "    }\n",
       "\n",
       "    .dataframe thead th {\n",
       "        text-align: right;\n",
       "    }\n",
       "</style>\n",
       "<table border=\"1\" class=\"dataframe\">\n",
       "  <thead>\n",
       "    <tr style=\"text-align: right;\">\n",
       "      <th></th>\n",
       "      <th>baseMean</th>\n",
       "      <th>log2FoldChange</th>\n",
       "      <th>lfcSE</th>\n",
       "      <th>stat</th>\n",
       "      <th>pvalue</th>\n",
       "      <th>padj</th>\n",
       "      <th>status</th>\n",
       "    </tr>\n",
       "  </thead>\n",
       "  <tbody>\n",
       "    <tr>\n",
       "      <th>A1BG</th>\n",
       "      <td>76.406243</td>\n",
       "      <td>0.143778</td>\n",
       "      <td>0.273934</td>\n",
       "      <td>0.524865</td>\n",
       "      <td>0.599677</td>\n",
       "      <td>0.831619</td>\n",
       "      <td>OK</td>\n",
       "    </tr>\n",
       "    <tr>\n",
       "      <th>A1BG-AS1</th>\n",
       "      <td>52.452301</td>\n",
       "      <td>-0.174454</td>\n",
       "      <td>0.326569</td>\n",
       "      <td>-0.534203</td>\n",
       "      <td>0.593201</td>\n",
       "      <td>0.829007</td>\n",
       "      <td>OK</td>\n",
       "    </tr>\n",
       "    <tr>\n",
       "      <th>A1CF</th>\n",
       "      <td>5.316616</td>\n",
       "      <td>0.363328</td>\n",
       "      <td>0.924026</td>\n",
       "      <td>0.393201</td>\n",
       "      <td>0.694171</td>\n",
       "      <td>NaN</td>\n",
       "      <td>Low</td>\n",
       "    </tr>\n",
       "    <tr>\n",
       "      <th>A2M</th>\n",
       "      <td>0.000000</td>\n",
       "      <td>NaN</td>\n",
       "      <td>NaN</td>\n",
       "      <td>NaN</td>\n",
       "      <td>NaN</td>\n",
       "      <td>NaN</td>\n",
       "      <td>Low</td>\n",
       "    </tr>\n",
       "    <tr>\n",
       "      <th>A2M-AS1</th>\n",
       "      <td>24.292984</td>\n",
       "      <td>0.019341</td>\n",
       "      <td>0.453736</td>\n",
       "      <td>0.042625</td>\n",
       "      <td>0.966000</td>\n",
       "      <td>0.987279</td>\n",
       "      <td>OK</td>\n",
       "    </tr>\n",
       "  </tbody>\n",
       "</table>\n",
       "</div>"
      ],
      "text/plain": [
       "           baseMean  log2FoldChange     lfcSE      stat    pvalue      padj  \\\n",
       "A1BG      76.406243        0.143778  0.273934  0.524865  0.599677  0.831619   \n",
       "A1BG-AS1  52.452301       -0.174454  0.326569 -0.534203  0.593201  0.829007   \n",
       "A1CF       5.316616        0.363328  0.924026  0.393201  0.694171       NaN   \n",
       "A2M        0.000000             NaN       NaN       NaN       NaN       NaN   \n",
       "A2M-AS1   24.292984        0.019341  0.453736  0.042625  0.966000  0.987279   \n",
       "\n",
       "         status  \n",
       "A1BG         OK  \n",
       "A1BG-AS1     OK  \n",
       "A1CF        Low  \n",
       "A2M         Low  \n",
       "A2M-AS1      OK  "
      ]
     },
     "execution_count": 7,
     "metadata": {},
     "output_type": "execute_result"
    }
   ],
   "source": [
    "df_diff = pd.read_excel('../data/primary_data/supp_table_2_diff_genes.xlsx', sheet_name='DESeq2-CoV (A549)', index_col=0)\n",
    "df_diff.index.name = None\n",
    "df_diff.head()"
   ]
  },
  {
   "cell_type": "code",
   "execution_count": 8,
   "metadata": {},
   "outputs": [],
   "source": [
    "ser_qval = df_diff['padj']\n",
    "ser_qval = ser_qval[ser_qval < 0.05]\n",
    "ser_qval.shape\n",
    "diff_genes = ser_qval.index.tolist()"
   ]
  },
  {
   "cell_type": "code",
   "execution_count": 9,
   "metadata": {},
   "outputs": [
    {
     "data": {
      "text/plain": [
       "('Series1_NHBE_Mock_1', 'Cell Type: NHBE', 'Treatment: Mock')"
      ]
     },
     "execution_count": 9,
     "metadata": {},
     "output_type": "execute_result"
    }
   ],
   "source": [
    "df_cat.columns.tolist()[0]"
   ]
  },
  {
   "cell_type": "code",
   "execution_count": 10,
   "metadata": {},
   "outputs": [
    {
     "data": {
      "text/plain": [
       "41"
      ]
     },
     "execution_count": 10,
     "metadata": {},
     "output_type": "execute_result"
    }
   ],
   "source": [
    "keep_cols = [x for x in df_cat.columns.tolist() if x[2] == 'Treatment: Mock' or x[2] == 'Treatment: SARS-CoV-2']\n",
    "len(keep_cols)"
   ]
  },
  {
   "cell_type": "code",
   "execution_count": 11,
   "metadata": {},
   "outputs": [
    {
     "name": "stderr",
     "output_type": "stream",
     "text": [
      "/Users/nickfernandez/anaconda3/lib/python3.6/site-packages/ipykernel_launcher.py:1: FutureWarning: \n",
      "Passing list-likes to .loc or [] with any missing label will raise\n",
      "KeyError in the future, you can use .reindex() as an alternative.\n",
      "\n",
      "See the documentation here:\n",
      "https://pandas.pydata.org/pandas-docs/stable/indexing.html#deprecate-loc-reindex-listlike\n",
      "  \"\"\"Entry point for launching an IPython kernel.\n"
     ]
    }
   ],
   "source": [
    "df_comp = df_cat.loc[diff_genes, keep_cols]"
   ]
  },
  {
   "cell_type": "code",
   "execution_count": 12,
   "metadata": {},
   "outputs": [],
   "source": [
    "new_rows = [(x, 'log2-fold-change: ' + str(df_diff.loc[x, 'log2FoldChange'])) for x in df_comp.index.tolist()]"
   ]
  },
  {
   "cell_type": "code",
   "execution_count": 13,
   "metadata": {},
   "outputs": [],
   "source": [
    "df_comp_cat = deepcopy(df_comp)\n",
    "df_comp_cat.index = new_rows"
   ]
  },
  {
   "cell_type": "code",
   "execution_count": 14,
   "metadata": {},
   "outputs": [
    {
     "data": {
      "application/vnd.jupyter.widget-view+json": {
       "model_id": "850f7b55d3d740799c9be87d1db2df49",
       "version_major": 2,
       "version_minor": 0
      },
      "text/plain": [
       "ExampleWidget(network='{\"row_nodes\": [{\"name\": \"ADAR\", \"ini\": 115, \"clust\": 76, \"rank\": 106, \"rankvar\": 42, \"c…"
      ]
     },
     "metadata": {},
     "output_type": "display_data"
    }
   ],
   "source": [
    "net.load_df(df_comp_cat)\n",
    "net.filter_cat(axis='col', cat_index=1, cat_name='Cell Type: A549')\n",
    "net.filter_N_top(inst_rc='row', rank_type='var', N_top=1000)\n",
    "net.normalize(axis='row', norm_type='zscore')\n",
    "net.widget()"
   ]
  },
  {
   "cell_type": "code",
   "execution_count": 15,
   "metadata": {},
   "outputs": [],
   "source": [
    "!mkdir ../jsons/\n",
    "net.save_dict_to_json(net.viz, '../jsons/A549_diff_genes.json')"
   ]
  },
  {
   "cell_type": "code",
   "execution_count": null,
   "metadata": {},
   "outputs": [],
   "source": []
  }
 ],
 "metadata": {
  "kernelspec": {
   "display_name": "Python 3",
   "language": "python",
   "name": "python3"
  },
  "language_info": {
   "codemirror_mode": {
    "name": "ipython",
    "version": 3
   },
   "file_extension": ".py",
   "mimetype": "text/x-python",
   "name": "python",
   "nbconvert_exporter": "python",
   "pygments_lexer": "ipython3",
   "version": "3.6.5"
  }
 },
 "nbformat": 4,
 "nbformat_minor": 2
}
